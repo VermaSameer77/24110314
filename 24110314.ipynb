{
 "cells": [
  {
   "cell_type": "code",
   "execution_count": 2,
   "id": "cf2d7901-24eb-4448-a543-d931751a66df",
   "metadata": {},
   "outputs": [
    {
     "name": "stdout",
     "output_type": "stream",
     "text": [
      "[1, 2, 3, 4, 5, 6, 7, 8, 9, 10, 11, 12, 13, 14, 15, 16, 17, 18, 19, 20]\n"
     ]
    }
   ],
   "source": [
    "#question 1 \n",
    "mylist = list(range (1 ,21) )\n",
    "print(mylist)"
   ]
  },
  {
   "cell_type": "code",
   "execution_count": null,
   "id": "e7f19cf4-3a68-42f2-84c9-0d630649460a",
   "metadata": {},
   "outputs": [],
   "source": [
    "#question 2\n",
    "#Mutable datatypes: These are datatypes whose values can be changed after they are created. Examples: list, set, dictionary.\n",
    "\n",
    "#Immutable datatypes: These are datatypes whose values cannot be changed after they are created. Examples: string, tuple."
   ]
  },
  {
   "cell_type": "code",
   "execution_count": 7,
   "id": "25bf2add-3998-45cb-8339-4e56473267bf",
   "metadata": {},
   "outputs": [
    {
     "name": "stdin",
     "output_type": "stream",
     "text": [
      " 20\n"
     ]
    },
    {
     "name": "stdout",
     "output_type": "stream",
     "text": [
      "1\n",
      "2\n",
      "4\n",
      "8\n",
      "16\n",
      "32\n",
      "64\n",
      "128\n",
      "256\n",
      "512\n",
      "1024\n",
      "2048\n",
      "4096\n",
      "8192\n",
      "16384\n",
      "32768\n",
      "65536\n",
      "131072\n"
     ]
    }
   ],
   "source": [
    "#question 3\n",
    "def fib(n):\n",
    "    a = 0\n",
    "    b = 1\n",
    "    for i in range (2 , n):\n",
    "        c = a + b \n",
    "        b = c \n",
    "        a = b\n",
    "        print(c)\n",
    "n=int(input())\n",
    "fib(n)\n"
   ]
  },
  {
   "cell_type": "code",
   "execution_count": 11,
   "id": "c23289ad-04c5-44e0-812b-fb799ea169de",
   "metadata": {},
   "outputs": [
    {
     "name": "stdout",
     "output_type": "stream",
     "text": [
      "[3, 5, 7, 6, 9, 11, 13]\n",
      "[13, 11, 9, 6, 5, 3]\n",
      "7.833333333333333\n",
      "6\n"
     ]
    }
   ],
   "source": [
    "#question 4\n",
    "mylist = [ 3 ,5 ,7 ,9 ,11 ,13]\n",
    "mylist.insert(3,6)\n",
    "print(mylist)\n",
    "mylist.remove(7)\n",
    "mylist.reverse()\n",
    "print(mylist)\n",
    "print(sum(mylist)/len(mylist))\n",
    "print(mylist[len(mylist)//2])"
   ]
  },
  {
   "cell_type": "code",
   "execution_count": 48,
   "id": "86036fcf-82f0-4fb1-921e-b20a30dbaadc",
   "metadata": {},
   "outputs": [
    {
     "name": "stdin",
     "output_type": "stream",
     "text": [
      " 4\n",
      "enter number: 1\n",
      "enter number: 2\n",
      "enter number: 3\n",
      "enter number: 4\n"
     ]
    },
    {
     "name": "stdout",
     "output_type": "stream",
     "text": [
      "2.5\n",
      "(1, 4)\n"
     ]
    },
    {
     "data": {
      "text/plain": [
       "(array([1., 0., 0., 1., 0., 0., 1., 0., 0., 1.]),\n",
       " array([1. , 1.3, 1.6, 1.9, 2.2, 2.5, 2.8, 3.1, 3.4, 3.7, 4. ]),\n",
       " <BarContainer object of 10 artists>)"
      ]
     },
     "execution_count": 48,
     "metadata": {},
     "output_type": "execute_result"
    },
    {
     "data": {
      "image/png": "[encoded data removed]",
      "text/plain": [
       "<Figure size 640x480 with 1 Axes>"
      ]
     },
     "metadata": {},
     "output_type": "display_data"
    }
   ],
   "source": [
    "#question 5\n",
    "%matplotlib inline\n",
    "n=int(input())\n",
    "a=[]\n",
    "for i in range(n):\n",
    "    num=int(input(\"enter number:\"))\n",
    "    a.append(num)\n",
    "print(sum(a)/n)\n",
    "print((min(a),max(a)))\n",
    "import matplotlib.pyplot as plt\n",
    "\n",
    "plt.hist(a)"
   ]
  },
  {
   "cell_type": "code",
   "execution_count": 12,
   "id": "c8961c09-5e2d-4040-b3e3-d5766fe1efe8",
   "metadata": {},
   "outputs": [
    {
     "name": "stdin",
     "output_type": "stream",
     "text": [
      " A man a plan a canal Panama\n"
     ]
    },
    {
     "data": {
      "text/plain": [
       "True"
      ]
     },
     "execution_count": 12,
     "metadata": {},
     "output_type": "execute_result"
    }
   ],
   "source": [
    "#question 6\n",
    "def is_palindrome(s):\n",
    "    s = s.replace(\" \", \"\").lower()  \n",
    "    return s == ''.join(reversed(s)) \n",
    "s=input()\n",
    "is_palindrome(s)"
   ]
  },
  {
   "cell_type": "code",
   "execution_count": 16,
   "id": "a08a1aeb-dc57-4d71-a634-091567c75ac9",
   "metadata": {},
   "outputs": [
    {
     "name": "stdin",
     "output_type": "stream",
     "text": [
      "Enter the number of students:  3\n",
      "Enter student name:  sameer\n",
      "Enter marks for the student:  10\n",
      "Enter student name:  verma\n",
      "Enter marks for the student:  12\n",
      "Enter student name:  k\n",
      "Enter marks for the student:  1\n"
     ]
    },
    {
     "name": "stdout",
     "output_type": "stream",
     "text": [
      "Student data: {'sameer': 10, 'verma': 12, 'k': 1}\n",
      "Average marks: 7.67\n",
      "Students scoring above the average:\n",
      "sameer\n",
      "verma\n",
      "Names: ['sameer', 'verma', 'k']\n",
      "Marks: [10, 12, 1]\n"
     ]
    },
    {
     "data": {
      "image/png": "[encoded data removed]",
      "text/plain": [
       "<Figure size 800x500 with 1 Axes>"
      ]
     },
     "metadata": {},
     "output_type": "display_data"
    }
   ],
   "source": [
    "#question 7\n",
    "import matplotlib.pyplot as plt\n",
    "data = {}\n",
    "num_students = int(input(\"Enter the number of students: \"))\n",
    "total_marks = 0\n",
    "\n",
    "for student in range(num_students):\n",
    "    student_name = input(\"Enter student name: \")\n",
    "    student_marks = int(input(\"Enter marks for the student: \"))\n",
    "    data[student_name] = student_marks\n",
    "    total_marks += student_marks\n",
    "\n",
    "average_marks = total_marks / num_students\n",
    "print(f\"Student data: {data}\")\n",
    "print(f\"Average marks: {average_marks:.2f}\")\n",
    "\n",
    "print(\"Students scoring above the average:\")\n",
    "names_list = []\n",
    "marks_list = []\n",
    "\n",
    "for name, marks in data.items():\n",
    "    if marks > average_marks:\n",
    "        print(name)\n",
    "    names_list.append(name)\n",
    "    marks_list.append(marks)\n",
    "\n",
    "index_positions = list(range(len(marks_list)))\n",
    "print(f\"Names: {names_list}\")\n",
    "print(f\"Marks: {marks_list}\")\n",
    "\n",
    "\n",
    "plt.figure(figsize=(8, 5))  \n",
    "plt.xticks(index_positions, names_list, rotation=45)\n",
    "plt.xlabel(\"Students\")\n",
    "plt.ylabel(\"Marks\")\n",
    "plt.title(\"Student Marks Bar Chart\")\n",
    "plt.bar(index_positions, marks_list, color='skyblue')\n",
    "plt.tight_layout()\n",
    "plt.show()\n"
   ]
  },
  {
   "cell_type": "code",
   "execution_count": 18,
   "id": "3d6d0956-98bf-478d-8d99-02bd2f864931",
   "metadata": {},
   "outputs": [
    {
     "name": "stdin",
     "output_type": "stream",
     "text": [
      "Enter the number of tuples to generate:  10\n"
     ]
    },
    {
     "name": "stdout",
     "output_type": "stream",
     "text": [
      "[(1, 1), (2, 4), (3, 9), (4, 16), (5, 25), (6, 36), (7, 49), (8, 64), (9, 81), (10, 100)]\n"
     ]
    },
    {
     "data": {
      "image/png": "[encoded data removed]",
      "text/plain": [
       "<Figure size 700x400 with 1 Axes>"
      ]
     },
     "metadata": {},
     "output_type": "display_data"
    }
   ],
   "source": [
    "#question 8\n",
    "num_tuples = int(input(\"Enter the number of tuples to generate: \"))\n",
    "tuples_list = []\n",
    "\n",
    "for number in range(1, num_tuples + 1):\n",
    "    tuples_list.append((number, number ** 2))\n",
    "\n",
    "print(tuples_list)\n",
    "\n",
    "x_values = [pair[0] for pair in tuples_list]\n",
    "y_values = [pair[1] for pair in tuples_list]\n",
    "\n",
    "import matplotlib.pyplot as plt\n",
    "plt.figure(figsize=(7, 4))\n",
    "plt.scatter(x_values, y_values, color='red', marker='o')\n",
    "plt.xlabel(\"X-axis\")\n",
    "plt.ylabel(\"Y-axis\")\n",
    "plt.title(\"Scatter and Line Plot of Tuples\")\n",
    "plt.plot(x_values, y_values, linestyle='dashed', color='blue')\n",
    "plt.grid(True)\n",
    "plt.tight_layout()\n",
    "plt.show()"
   ]
  },
  {
   "cell_type": "code",
   "execution_count": 19,
   "id": "fc7a72ce-49a4-4ac8-9f09-aa4d1f9a4abe",
   "metadata": {},
   "outputs": [
    {
     "name": "stdout",
     "output_type": "stream",
     "text": [
      "{'a': 10, 'b': 25, 'c': 15}\n"
     ]
    }
   ],
   "source": [
    "#question 9\n",
    "\n",
    "dict1 = {'a': 10, 'b': 20}\n",
    "dict2 = {'b': 5, 'c': 15}\n",
    "merged_dict = dict1.copy() \n",
    "for key, value in dict2.items():\n",
    "    if key in merged_dict:\n",
    "       merged_dict[key] += value  \n",
    "    else:\n",
    "        merged_dict[key] = value  \n",
    "\n",
    "print(merged_dict)\n"
   ]
  },
  {
   "cell_type": "code",
   "execution_count": 20,
   "id": "691970c2-2a41-47e9-a7ec-44186bfc5ca2",
   "metadata": {},
   "outputs": [
    {
     "name": "stdin",
     "output_type": "stream",
     "text": [
      " iitgandhinagar\n"
     ]
    },
    {
     "name": "stdout",
     "output_type": "stream",
     "text": [
      "{'i': 3, 't': 1, 'g': 2, 'a': 3, 'n': 2, 'd': 1, 'h': 1, 'r': 1}\n"
     ]
    },
    {
     "data": {
      "image/png": "[encoded data removed]",
      "text/plain": [
       "<Figure size 640x480 with 1 Axes>"
      ]
     },
     "metadata": {},
     "output_type": "display_data"
    }
   ],
   "source": [
    "#question 10\n",
    "import matplotlib.pyplot as plt\n",
    "old_str = str(input())\n",
    "new_str = old_str.lower()\n",
    "\n",
    "freq = {}\n",
    "\n",
    "for c in new_str:\n",
    "    if c in freq:\n",
    "        freq[c] += 1\n",
    "    else: \n",
    "        freq [c] = 1\n",
    "\n",
    "print(freq)\n",
    "\n",
    "%matplotlib inline\n",
    "for x,y in freq.items():\n",
    "    plt.bar(x,y)"
   ]
  },
  {
   "cell_type": "code",
   "execution_count": 21,
   "id": "fb6f9e76-ad2e-486a-a70a-8b83147fb928",
   "metadata": {},
   "outputs": [
    {
     "name": "stdin",
     "output_type": "stream",
     "text": [
      "Enter numbers without spaces:  44946478\n"
     ]
    },
    {
     "name": "stdout",
     "output_type": "stream",
     "text": [
      "Unique numbers: [4, 9, 6, 7, 8]\n",
      "Mean: 6.80\n",
      "Median: 7\n"
     ]
    }
   ],
   "source": [
    "#question 11\n",
    "a = list(map(int, input(\"Enter numbers without spaces: \").strip()))\n",
    "b = []\n",
    "\n",
    "for c in a:\n",
    "    if c not in b:\n",
    "        b.append(c)\n",
    "\n",
    "print(f\"Unique numbers: {b}\")\n",
    "mean = sum(b) / len(b) if b else 0\n",
    "b.sort()\n",
    "d = len(b)\n",
    "if d % 2 == 0:\n",
    "    median = (b[d // 2 - 1] + b[d // 2]) / 2\n",
    "else:\n",
    "    median = b[d // 2]\n",
    "print(f\"Mean: {mean:.2f}\")\n",
    "print(f\"Median: {median}\")\n"
   ]
  },
  {
   "cell_type": "code",
   "execution_count": 22,
   "id": "dcbb8e8b-c835-4eed-a5d5-3c6b1283a9ba",
   "metadata": {},
   "outputs": [
    {
     "name": "stdout",
     "output_type": "stream",
     "text": [
      "5\n",
      "2\n"
     ]
    },
    {
     "data": {
      "image/png": "[encoded data removed]",
      "text/plain": [
       "<Figure size 640x480 with 1 Axes>"
      ]
     },
     "metadata": {},
     "output_type": "display_data"
    }
   ],
   "source": [
    "#question 12\n",
    "import matplotlib.pyplot as plt\n",
    "a = ['name', 'Alice', 'age']\n",
    "m = 0\n",
    "c = []\n",
    "for i in a:\n",
    "    c.append(len(i))\n",
    "    if len(i) > m:\n",
    "        m = len(i)\n",
    "print(m)\n",
    "v = [\"a\", \"e\", \"i\", \"o\", \"u\", \"A\", \"E\", \"I\", \"O\", \"U\"]\n",
    "k = 0\n",
    "for i in a:\n",
    "    if i[0] in v:\n",
    "        k += 1\n",
    "print(k)\n",
    "plt.hist(c)\n",
    "plt.show()\n"
   ]
  },
  {
   "cell_type": "code",
   "execution_count": 24,
   "id": "214ac253-bc9a-4b68-b528-42140f13ae4d",
   "metadata": {},
   "outputs": [
    {
     "name": "stdout",
     "output_type": "stream",
     "text": [
      "[{'name': 'Bob', 'age': 22}, {'name': 'Alice', 'age': 25}]\n"
     ]
    }
   ],
   "source": [
    "#question 13\n",
    "data = [{'name': 'Alice', 'age': 25}, {'name': 'Bob', 'age': 22}]\n",
    "key=\"age\"\n",
    "sorted_data=sorted(data,key=lambda x:x[key])\n",
    "print(sorted_data)"
   ]
  },
  {
   "cell_type": "code",
   "execution_count": 25,
   "id": "247dffea-84e7-4f65-a4aa-5bbaa03b53a8",
   "metadata": {},
   "outputs": [
    {
     "name": "stdin",
     "output_type": "stream",
     "text": [
      " Write a function to sort a list of dictionaries by a key\n"
     ]
    },
    {
     "name": "stdout",
     "output_type": "stream",
     "text": [
      "['Write', 'function', 'sort', 'list', 'dictionaries']\n",
      "['dictionaries', 'function', 'list', 'sort', 'Write']\n"
     ]
    },
    {
     "data": {
      "image/png": "[encoded data removed]",
      "text/plain": [
       "<Figure size 640x480 with 1 Axes>"
      ]
     },
     "metadata": {},
     "output_type": "display_data"
    }
   ],
   "source": [
    "#question 14\n",
    "a = input().split()\n",
    "for word in a[:]:\n",
    "    if len(word) < 4:\n",
    "        a.remove(word)\n",
    "print(a)\n",
    "a = sorted(a, key=str.lower) \n",
    "print(a)\n",
    "\n",
    "for word in a:\n",
    "    b = len(word)\n",
    "    plt.bar(word, b)\n",
    "plt.show()"
   ]
  },
  {
   "cell_type": "code",
   "execution_count": 28,
   "id": "4976f3b2-8d7b-44b8-af5e-8ba35e3e44d5",
   "metadata": {},
   "outputs": [
    {
     "name": "stdout",
     "output_type": "stream",
     "text": [
      "['enlist', 'inlets']\n"
     ]
    }
   ],
   "source": [
    "#question 15\n",
    "def find_anagram(word, words):\n",
    "    answer = []\n",
    "    for w in words:\n",
    "        if sorted(w) == sorted(word):\n",
    "            answer.append(w)\n",
    "    return answer\n",
    "\n",
    "words = [\"enlist\", \"google\", \"inlets\", \"banana\"]\n",
    "word = \"listen\"\n",
    "print(find_anagram(word, words))"
   ]
  },
  {
   "cell_type": "code",
   "execution_count": 29,
   "id": "7a00ac35-5c3e-4de5-ae76-dd5c58745a0f",
   "metadata": {},
   "outputs": [
    {
     "name": "stdout",
     "output_type": "stream",
     "text": [
      "['a', 'a', 'b', 'd', 'd', 'f', 'g', 's', 'y']\n"
     ]
    }
   ],
   "source": [
    "print(sorted(\"absdadfgy\"))"
   ]
  },
  {
   "cell_type": "code",
   "execution_count": 34,
   "id": "d05d05ae-6ff8-4e8a-add2-d3f2d04ab771",
   "metadata": {},
   "outputs": [
    {
     "data": {
      "text/plain": [
       "([8, 10, 6], [2, 4, 6, 8, 10, 12, 14, 16, 18], [2, 4, 12, 14, 16, 18])"
      ]
     },
     "execution_count": 34,
     "metadata": {},
     "output_type": "execute_result"
    }
   ],
   "source": [
    "#question 16\n",
    "def set_operation(list1, list2):\n",
    "    intersection = list(set(list1).intersection(set(list2)))\n",
    "    union = list(set(list1).union(set(list2)))\n",
    "    symmetric_difference = list(set(list1).symmetric_difference(set(list2)))  # Corrected to use 'set(list2)'\n",
    "\n",
    "    return intersection, union, symmetric_difference  # Corrected variable name\n",
    "\n",
    "list1 = [2, 4, 6, 8, 10, 12]\n",
    "list2 = [6, 8, 10, 14, 16, 18]\n",
    "set_operation(list1, list2)\n"
   ]
  },
  {
   "cell_type": "code",
   "execution_count": 47,
   "id": "f30c8661-6a83-4c67-b708-661e56a6ad7e",
   "metadata": {},
   "outputs": [
    {
     "name": "stdin",
     "output_type": "stream",
     "text": [
      "Enter a text message (or '0' to exit):  14\n",
      "Enter a text message (or '0' to exit):  12\n",
      "Enter a text message (or '0' to exit):  4\n",
      "Enter a text message (or '0' to exit):  0\n"
     ]
    },
    {
     "name": "stdout",
     "output_type": "stream",
     "text": [
      "The sum of the numbers is: 30\n"
     ]
    }
   ],
   "source": [
    "#question 17\n",
    "with open(\"ab.txt\", \"a\") as file:\n",
    "    while True:\n",
    "        message = input(\"Enter a text message (or '0' to exit): \")\n",
    "        if message == \"0\":\n",
    "            break\n",
    "        else:\n",
    "            file.write(message + \"\\n\")\n",
    "with open(\"ab.txt\", \"r\") as file:\n",
    "    total = 0\n",
    "    for line in file:\n",
    "        try:\n",
    "            number = int(line.strip())\n",
    "            total += number\n",
    "        except ValueError:\n",
    "            pass\n",
    "print(f\"The sum of the numbers is: {total}\")\n"
   ]
  },
  {
   "cell_type": "code",
   "execution_count": 46,
   "id": "efaed97e-b7e3-497c-9591-287811c50190",
   "metadata": {},
   "outputs": [
    {
     "name": "stdin",
     "output_type": "stream",
     "text": [
      "enter file name: sport.txt\n"
     ]
    },
    {
     "name": "stdout",
     "output_type": "stream",
     "text": [
      "ball 2\n"
     ]
    },
    {
     "data": {
      "text/plain": [
       "<BarContainer object of 3 artists>"
      ]
     },
     "execution_count": 46,
     "metadata": {},
     "output_type": "execute_result"
    },
    {
     "data": {
      "image/png": "[encoded data removed]",
      "text/plain": [
       "<Figure size 640x480 with 1 Axes>"
      ]
     },
     "metadata": {},
     "output_type": "display_data"
    }
   ],
   "source": [
    "#question 18\n",
    "import matplotlib.pyplot as plt\n",
    "from collections import Counter\n",
    "fname=input(\"enter file name:\")\n",
    "f=open(fname,\"r\")\n",
    "text=f.read()\n",
    "words=text.split()\n",
    "word_count=Counter(words)\n",
    "a,b=word_count.most_common(1)[0]\n",
    "print(a,b)\n",
    "x=word_count.keys()\n",
    "y=word_count.values()\n",
    "\n",
    "plt.bar(x,y)\n"
   ]
  },
  {
   "cell_type": "code",
   "execution_count": 35,
   "id": "7ee50772-5259-4626-bf92-ed9763005766",
   "metadata": {},
   "outputs": [
    {
     "name": "stdout",
     "output_type": "stream",
     "text": [
      "[38, 51, 34, 10, 36, 16, 34, 13, 13, 29, 27, 30, 30, 17, 4, 7, 33, 37, 13, 17, 51, 29, 22, 47, 38, 9, 37, 23, 15, 37, 8, 34, 35, 2, 28, 49, 18, 6, 32, 29, 44, 17, 43, 7, 14, 20, 45, 24, 15, 47, 12]\n"
     ]
    }
   ],
   "source": [
    "#question 19\n",
    "import random\n",
    "lis1 = []\n",
    "for i in range(51):\n",
    "    lis1.append(random.randint(1,51))\n",
    "print(lis1)\n"
   ]
  },
  {
   "cell_type": "code",
   "execution_count": 49,
   "id": "742655a1-19ea-497f-8f79-e7e4968ef0ef",
   "metadata": {},
   "outputs": [
    {
     "name": "stdout",
     "output_type": "stream",
     "text": [
      "        name  marks\n",
      "0   Student1     86\n",
      "1   Student2     66\n",
      "2   Student3     62\n",
      "3   Student4     63\n",
      "4   Student5     60\n",
      "5   Student6     70\n",
      "6   Student7     81\n",
      "7   Student8     75\n",
      "8   Student9    100\n",
      "9  Student10     82\n",
      "745\n"
     ]
    },
    {
     "data": {
      "text/plain": [
       "[<matplotlib.lines.Line2D at 0x26cc3719ad0>]"
      ]
     },
     "execution_count": 49,
     "metadata": {},
     "output_type": "execute_result"
    },
    {
     "data": {
      "image/png": "[encoded data removed]",
      "text/plain": [
       "<Figure size 640x480 with 1 Axes>"
      ]
     },
     "metadata": {},
     "output_type": "display_data"
    }
   ],
   "source": [
    "#question 20\n",
    "import pandas as pd\n",
    "data=pd.read_csv(\"marks.csv\")\n",
    "print(data)\n",
    "sum=0\n",
    "for i in data[\"marks\"]:\n",
    "    sum+=i\n",
    "print(sum)\n",
    "import matplotlib.pyplot as plt\n",
    "plt.plot(data[\"marks\"])"
   ]
  },
  {
   "cell_type": "code",
   "execution_count": 45,
   "id": "6d10e93d-d296-467b-93ac-8a8f428ee4f1",
   "metadata": {},
   "outputs": [
    {
     "name": "stdout",
     "output_type": "stream",
     "text": [
      "mean: 2.7142857142857144\n",
      "median: 2\n",
      "mode: 2\n",
      "standard deviation: 1.3801311186847083\n"
     ]
    }
   ],
   "source": [
    "#question 21\n",
    "import math\n",
    "\n",
    "def mean(data):\n",
    "    if not data:\n",
    "        raise ValueError(\"Data cannot be empty\")\n",
    "    return sum(data) / len(data)\n",
    "\n",
    "def median(data):\n",
    "    if not data:\n",
    "        raise ValueError(\"Data cannot be empty\")\n",
    "    data = sorted(data)\n",
    "    n = len(data)\n",
    "    if n % 2 == 0:\n",
    "        return (data[n // 2] + data[n // 2 - 1]) / 2\n",
    "    else:\n",
    "        return data[n // 2]\n",
    "\n",
    "def mode(data):\n",
    "    if not data:\n",
    "        raise ValueError(\"Data cannot be empty\")\n",
    "    frequency = {}\n",
    "    for i in data:\n",
    "        frequency[i] = frequency.get(i, 0) + 1\n",
    "    max_count = max(frequency.values())\n",
    "    modes = [num for num, count in frequency.items() if count == max_count]\n",
    "    return modes if len(modes) > 1 else modes[0] \n",
    "\n",
    "def sd(data):\n",
    "    if not data:\n",
    "        raise ValueError(\"Data cannot be empty\")\n",
    "    n = len(data)\n",
    "    if n < 2:\n",
    "        raise ValueError(\"Standard deviation requires at least two data points\")\n",
    "    m = mean(data)\n",
    "    total = sum((x - m) ** 2 for x in data)\n",
    "    return math.sqrt(total / (n - 1))\n",
    "data = [1, 2, 3, 4, 5, 2, 2]\n",
    "print(\"mean:\", mean(data))\n",
    "print(\"median:\", median(data))\n",
    "print(\"mode:\", mode(data))\n",
    "print(\"standard deviation:\", sd(data))"
   ]
  },
  {
   "cell_type": "code",
   "execution_count": 44,
   "id": "c4d728e7-3700-40e6-b831-356339e3effb",
   "metadata": {},
   "outputs": [
    {
     "name": "stdout",
     "output_type": "stream",
     "text": [
      "[0.0, 0.1111111111111111, 0.2222222222222222, 0.3333333333333333, 0.4444444444444444, 0.5555555555555556, 0.6666666666666666, 0.7777777777777778, 0.8888888888888888, 1.0]\n"
     ]
    },
    {
     "data": {
      "text/plain": [
       "[<matplotlib.lines.Line2D at 0x26cc1cc2c10>]"
      ]
     },
     "execution_count": 44,
     "metadata": {},
     "output_type": "execute_result"
    },
    {
     "data": {
      "image/png": "[encoded data removed]",
      "text/plain": [
       "<Figure size 640x480 with 1 Axes>"
      ]
     },
     "metadata": {},
     "output_type": "display_data"
    }
   ],
   "source": [
    "#question 22\n",
    "import matplotlib.pyplot as plt\n",
    "def normal(data):\n",
    "    mn=min(data)\n",
    "    mx=max(data)\n",
    "    n=[]\n",
    "    for x in data:\n",
    "        num=(x-mn)/(mx-mn)\n",
    "        n.append(num)\n",
    "    return n\n",
    "a=[10,20,30,40,50,60,70,80,90,100]\n",
    "print(normal(a))\n",
    "\n",
    "\n",
    "plt.plot(a,normal(a))"
   ]
  },
  {
   "cell_type": "code",
   "execution_count": 36,
   "id": "a70d5af2-f09b-44e3-bb96-b3d8be38dd08",
   "metadata": {},
   "outputs": [
    {
     "name": "stdin",
     "output_type": "stream",
     "text": [
      " 5\n"
     ]
    },
    {
     "name": "stdout",
     "output_type": "stream",
     "text": [
      "n is odd\n"
     ]
    }
   ],
   "source": [
    "#question 23\n",
    "n = int(input())\n",
    "if n % 2 == 0:\n",
    "    print(\"n is even\")\n",
    "else:\n",
    "    print(\"n is odd\")"
   ]
  },
  {
   "cell_type": "code",
   "execution_count": 37,
   "id": "1554ff4f-76f5-4f60-91f7-7f5e6923b83f",
   "metadata": {},
   "outputs": [
    {
     "data": {
      "text/plain": [
       "'D'"
      ]
     },
     "execution_count": 37,
     "metadata": {},
     "output_type": "execute_result"
    }
   ],
   "source": [
    "#question 24\n",
    "def letter_grade(grade):\n",
    "    if 90 <= grade <= 100:\n",
    "        return \"A\"\n",
    "    elif 80 <= grade < 90:\n",
    "        return \"B\"\n",
    "    elif 70 <= grade < 80:\n",
    "        return \"C\"\n",
    "    elif 60 <= grade < 70:\n",
    "        return \"D\"\n",
    "    elif 0 <= grade < 60:\n",
    "        return \"F\"\n",
    "    else:\n",
    "        return \"Invalid grade\"\n",
    "letter_grade(67)"
   ]
  },
  {
   "cell_type": "code",
   "execution_count": 41,
   "id": "2f37b9d5-33a2-493f-8abb-723e4fed0a48",
   "metadata": {},
   "outputs": [
    {
     "name": "stdin",
     "output_type": "stream",
     "text": [
      "enter year: 2000\n"
     ]
    },
    {
     "name": "stdout",
     "output_type": "stream",
     "text": [
      "leap year\n"
     ]
    }
   ],
   "source": [
    "#question 25\n",
    "year=int(input(\"enter year:\"))\n",
    "if year%4==0 and (year%100!=0 or year%400==0):\n",
    "    print(\"leap year\")\n",
    "else:\n",
    "    print(\"not a leap year\")"
   ]
  },
  {
   "cell_type": "code",
   "execution_count": null,
   "id": "efb9ce63-a0c7-4405-a654-a03542cadf52",
   "metadata": {},
   "outputs": [],
   "source": []
  }
 ],
 "metadata": {
  "kernelspec": {
   "display_name": "Python 3 (ipykernel)",
   "language": "python",
   "name": "python3"
  },
  "language_info": {
   "codemirror_mode": {
    "name": "ipython",
    "version": 3
   },
   "file_extension": ".py",
   "mimetype": "text/x-python",
   "name": "python",
   "nbconvert_exporter": "python",
   "pygments_lexer": "ipython3",
   "version": "3.11.7"
  }
 },
 "nbformat": 4,
 "nbformat_minor": 5
}
